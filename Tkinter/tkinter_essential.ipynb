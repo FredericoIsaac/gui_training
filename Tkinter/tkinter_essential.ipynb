{
 "metadata": {
  "language_info": {
   "codemirror_mode": {
    "name": "ipython",
    "version": 3
   },
   "file_extension": ".py",
   "mimetype": "text/x-python",
   "name": "python",
   "nbconvert_exporter": "python",
   "pygments_lexer": "ipython3",
   "version": "3.8.3-final"
  },
  "orig_nbformat": 2,
  "kernelspec": {
   "name": "Python 3.8.3 32-bit",
   "display_name": "Python 3.8.3 32-bit",
   "metadata": {
    "interpreter": {
     "hash": "fee04717e200c41890f914d41448309315c9835eadcb1ec78881c144ca56f19b"
    }
   }
  }
 },
 "nbformat": 4,
 "nbformat_minor": 2,
 "cells": [
  {
   "source": [
    "## Bibliography\n",
    "\n",
    "Codemy Youtube: https://www.youtube.com/playlist?list=PLCC34OHNcOtoC6GglhF3ncJ5rLwQrLGnV\n"
   ],
   "cell_type": "markdown",
   "metadata": {}
  },
  {
   "source": [
    "# Graphical User Interface (GUI)"
   ],
   "cell_type": "markdown",
   "metadata": {}
  },
  {
   "cell_type": "code",
   "execution_count": 1,
   "metadata": {},
   "outputs": [],
   "source": [
    "from tkinter import *\n",
    "\n",
    "# Create tkinter object\n",
    "root = Tk()\n",
    "\n",
    "# Create a label widget\n",
    "myLabel1 = Label(root, text=\"Hello World!\")\n",
    "myLabel2 = Label(root, text=\"My name is Fred\")\n",
    "\n",
    "# Add the created widget to the screnn\n",
    "myLabel1.pack()         # pack is a way to consolidate the label as it is\n",
    "\n",
    "# The main loop\n",
    "root.mainloop()"
   ]
  },
  {
   "source": [
    "## Using Grid do display\n",
    "\n",
    "Using the grid system instead os pack()"
   ],
   "cell_type": "markdown",
   "metadata": {}
  },
  {
   "cell_type": "code",
   "execution_count": null,
   "metadata": {},
   "outputs": [],
   "source": [
    "from tkinter import *\n",
    "\n",
    "# Create tkinter object\n",
    "root = Tk()\n",
    "\n",
    "# Create a label widget\n",
    "myLabel1 = Label(root, text=\"Hello World!\")\n",
    "myLabel2 = Label(root, text=\"My name is Fred\")\n",
    "\n",
    "# Using grid to display the label\n",
    "myLabel1.grid(row=0, column=0)\n",
    "myLabel2.grid(row=1, column=1)\n",
    "\n",
    "\n",
    "# The main loop\n",
    "root.mainloop()"
   ]
  },
  {
   "source": [
    "## Creating Buttons\n",
    "\n",
    "Parameters information: https://www.tutorialspoint.com/python/tk_button.htm"
   ],
   "cell_type": "markdown",
   "metadata": {}
  },
  {
   "cell_type": "code",
   "execution_count": 7,
   "metadata": {},
   "outputs": [],
   "source": [
    "from tkinter import *\n",
    "\n",
    "root = Tk()\n",
    "\n",
    "# When button clicked does:\n",
    "def myClick():\n",
    "    myLabel = Label(root, text=\"Look! I was clicked!!\")\n",
    "    myLabel.pack()\n",
    "\n",
    "myButton = Button(root, text=\"Click Me!\", state=ACTIVE, padx=50, pady=50, command=myClick) # with state \"DISABLED\" the button dont work\n",
    "myButton.pack()\n",
    "\n",
    "root.mainloop()"
   ]
  },
  {
   "source": [
    "## Creating Input Fields"
   ],
   "cell_type": "markdown",
   "metadata": {}
  },
  {
   "cell_type": "code",
   "execution_count": 8,
   "metadata": {},
   "outputs": [],
   "source": [
    "from tkinter import *\n",
    "\n",
    "root = Tk()\n",
    "\n",
    "# add box entry\n",
    "e = Entry(root, width=50, borderwidth=5)\n",
    "# Put it on the screen\n",
    "e.pack()\n",
    "# Insert a default text\n",
    "e.insert(0, \"Enter your Name: \")\n",
    "\n",
    "def myClick():\n",
    "    myLabel = Label(root, text=\"Hello \" + e.get()) #e.get() ill get the info that is in the text box\n",
    "    myLabel.pack()\n",
    "\n",
    "myButton = Button(root, text=\"Enter your name\", state=ACTIVE, padx=50, pady=50, command=myClick) # with state \"DISABLED\" the button dont work\n",
    "myButton.pack()\n",
    "\n",
    "root.mainloop()\n"
   ]
  },
  {
   "source": [
    "## Icons, Images and Exit Buttons\n"
   ],
   "cell_type": "markdown",
   "metadata": {}
  },
  {
   "cell_type": "code",
   "execution_count": 2,
   "metadata": {},
   "outputs": [],
   "source": [
    "from tkinter import *\n",
    "# To get images manipulation\n",
    "from PIL import ImageTk, Image\n",
    "\n",
    "root = Tk()\n",
    "root.title(\"Learn to code at Codemy.com\")\n",
    "\n",
    "# Manipulating images\n",
    "my_img = ImageTk.PhotoImage(Image.open(\"images\\purpl_circle.jpg\"))\n",
    "my_label = Label(image=my_img)\n",
    "my_label.pack()\n",
    "# Get image for logo\n",
    "root.iconbitmap(\"images\\confere_logo.ico\")\n",
    "\n",
    "# Exit button\n",
    "button_quit = Button(root, text=\"Exit Program\", command=root.quit)\n",
    "button_quit.pack()\n",
    "\n",
    "root.mainloop()"
   ]
  },
  {
   "source": [
    "## Frames"
   ],
   "cell_type": "markdown",
   "metadata": {}
  },
  {
   "cell_type": "code",
   "execution_count": 4,
   "metadata": {},
   "outputs": [],
   "source": [
    "from tkinter import *\n",
    "\n",
    "root = Tk()\n",
    "root.title(\"Frames\")\n",
    "\n",
    "frame = LabelFrame(root, text=\"This is my frame...\", padx=50, pady=50)\n",
    "frame.pack(padx=10, pady=10)\n",
    "\n",
    "button_widget = Button(frame, text=\"Don't Click here!\")\n",
    "button_widget.grid(row=0, column=0)    # you can use a grid inside the frame\n",
    "\n",
    "root.mainloop()"
   ]
  },
  {
   "source": [
    "## Radio Buttons"
   ],
   "cell_type": "markdown",
   "metadata": {}
  },
  {
   "cell_type": "code",
   "execution_count": 9,
   "metadata": {},
   "outputs": [],
   "source": [
    "from tkinter import *\n",
    "from PIL import ImageTk, Image\n",
    "\n",
    "root = Tk()\n",
    "root.title(\"Radio Buttons\")\n",
    "\n",
    "#r = IntVar()\n",
    "##r = StringVar()   # if the value was a string \n",
    "#r.set()\n",
    "\n",
    "def clicked(value):\n",
    "    my_label = Label(root, text=value)\n",
    "    my_label.pack()\n",
    "\n",
    "MODES = [\n",
    "    (\"Pepperoni\", \"Pepperoni\"),\n",
    "    (\"Cheese\", \"Cheese\"),\n",
    "    (\"Mushroom\", \"Mushroom\"),\n",
    "    (\"Onion\", \"Onion\")\n",
    "]\n",
    "\n",
    "pizza = StringVar()\n",
    "pizza.set(\"Pepperoni\")\n",
    "\n",
    "for text, mode in MODES:\n",
    "    Radiobutton(root, text=text, variable=pizza, value=mode).pack(anchor=W)\n",
    "\n",
    "#Radiobutton(root, text=\"Option 1\", variable=r, value=1, command= lambda: clicked(r.get())).pack()\n",
    "#Radiobutton(root, text=\"Option 2\", variable=r, value=2, command= lambda: clicked(r.get())).pack()\n",
    "\n",
    "##my_label = Label(root, text=r.get())\n",
    "#my_label = Label(root, text=pizza.get())\n",
    "#my_label.pack()\n",
    "\n",
    "#myButton = Button(root, text=\"Click Me!\", command= lambda: clicked(r.get()))\n",
    "myButton = Button(root, text=\"Click Me!\", command= lambda: clicked(pizza.get()))\n",
    "myButton.pack()\n",
    "mainloop()"
   ]
  },
  {
   "source": [
    "## Message Box's"
   ],
   "cell_type": "markdown",
   "metadata": {}
  },
  {
   "cell_type": "code",
   "execution_count": 11,
   "metadata": {},
   "outputs": [],
   "source": [
    "from tkinter import *\n",
    "from PIL import ImageTk, Image\n",
    "from tkinter import messagebox\n",
    "\n",
    "root = Tk()\n",
    "root.title(\"Message\")\n",
    "\n",
    "# showinfo, showwarning, showerror, askquestion, askokcancel, askyesno\n",
    "\n",
    "def popup():\n",
    "    response = messagebox.askyesno(\"This is my Popup!\", \"Hello World!\")\n",
    "    Label(root, text=response).pack()\n",
    "    # if response == 1:\n",
    "    #     Label(root, text=\"You clicked yes\").pack()\n",
    "    # else:\n",
    "    #     Label(root, text=\"You clicked no\").pack()\n",
    "\n",
    "Button(root, text=\"Popup\", command=popup).pack()\n",
    "\n",
    "mainloop()"
   ]
  },
  {
   "source": [
    "## Create a new window"
   ],
   "cell_type": "markdown",
   "metadata": {}
  },
  {
   "cell_type": "code",
   "execution_count": 20,
   "metadata": {},
   "outputs": [],
   "source": [
    "from tkinter import *\n",
    "from PIL import ImageTk, Image\n",
    "\n",
    "root = Tk()\n",
    "root.title(\"Create window\")\n",
    "root.geometry(\"500x500\")\n",
    "\n",
    "def open():\n",
    "    global my_img   # We have to put global to the img so that appear in the second window when inseide a funtion\n",
    "    top = Toplevel()    # Create a new window\n",
    "    top.title(\"My second window\")\n",
    "    top.geometry(\"500x500\")\n",
    "    lbl = Label(top, text=\"Hello world\").pack()\n",
    "    my_img = ImageTk.PhotoImage(Image.open(\"images\\confere_logo.ico\"))\n",
    "    my_label = Label(top, image=my_img).pack()\n",
    "\n",
    "    btn2 = Button(top, text=\"Close window\", command=top.destroy).pack()\n",
    "\n",
    "\n",
    "btn = Button(root, text=\"Open second window\", command=open).pack()\n",
    "\n",
    "\n",
    "\n",
    "\n",
    "mainloop()"
   ]
  },
  {
   "source": [
    "## Open files Dialog"
   ],
   "cell_type": "markdown",
   "metadata": {}
  },
  {
   "cell_type": "code",
   "execution_count": 26,
   "metadata": {},
   "outputs": [],
   "source": [
    "from tkinter import *\n",
    "from PIL import ImageTk, Image\n",
    "from tkinter import filedialog\n",
    "\n",
    "root = Tk()\n",
    "root.title(\"Dialog\")\n",
    "\n",
    "# root.filename = filedialog.askopenfilename(initialdir=\"images/\", title=\"Select a File\", filetypes=((\"jpg files\", \"*.jpg\"),(\"all files\", \"*.*\")))\n",
    "# my_label = Label(root, text=root.filename).pack()\n",
    "\n",
    "# my_image = ImageTk.PhotoImage(Image.open(root.filename))\n",
    "# my_image_label = Label(image=my_image).pack()\n",
    "\n",
    "def open():\n",
    "    global my_image\n",
    "    root.filename = filedialog.askopenfilename(initialdir=\"images/\", title=\"Select a File\", filetypes=((\"jpg files\", \"*.jpg\"),(\"all files\", \"*.*\")))\n",
    "    my_label = Label(root, text=root.filename).pack()\n",
    "\n",
    "    my_image = ImageTk.PhotoImage(Image.open(root.filename))\n",
    "    my_image_label = Label(image=my_image).pack()\n",
    "\n",
    "my_btn = Button(root, text=\"Open File\", command=open)\n",
    "my_btn.pack()\n",
    "\n",
    "mainloop()"
   ]
  },
  {
   "source": [
    "# Sliders"
   ],
   "cell_type": "markdown",
   "metadata": {}
  },
  {
   "cell_type": "code",
   "execution_count": 34,
   "metadata": {},
   "outputs": [],
   "source": [
    "from tkinter import *\n",
    "from PIL import ImageTk, Image\n",
    "\n",
    "root = Tk()\n",
    "root.title(\"Sliders\")\n",
    "root.geometry(\"400x400\")\n",
    "\n",
    "def slide():\n",
    "    my_label = Label(root, text=horizontal.get()).pack()\n",
    "    root.geometry(str(horizontal.get()) + \"x400\")\n",
    "\n",
    "vertical = Scale(root, from_=0, to=200)\n",
    "vertical.pack()\n",
    "\n",
    "horizontal = Scale(root, from_=0, to=200, orient=HORIZONTAL)\n",
    "horizontal.pack()\n",
    "\n",
    "\n",
    "my_btn = Button(root, text=\"Click me!\", command=slide).pack()\n",
    "\n",
    "mainloop()"
   ]
  },
  {
   "source": [
    "## Check Boxes"
   ],
   "cell_type": "markdown",
   "metadata": {}
  },
  {
   "source": [
    "from tkinter import *\n",
    "from PIL import ImageTk, Image\n",
    "\n",
    "root = Tk()\n",
    "root.title(\"Check Box\")\n",
    "root.geometry(\"400x400\")\n",
    "\n",
    "#var = IntVar()\n",
    "var = StringVar()\n",
    "\n",
    "c = Checkbutton(root, text=\"Check this box, I dare You!\", variable=var, onvalue=\"Pizza\", offvalue=\"Hamburger\")\n",
    "c.deselect()\n",
    "c.pack()\n",
    "\n",
    "def show():\n",
    "    my_label = Label(root, text=var.get()).pack()\n",
    "\n",
    "\n",
    "myButton = Button(root, text=\"Show Selection\", command=show)\n",
    "myButton.pack()\n",
    "\n",
    "mainloop()"
   ],
   "cell_type": "code",
   "metadata": {},
   "execution_count": 35,
   "outputs": []
  },
  {
   "source": [
    "## Drop Down Boxes"
   ],
   "cell_type": "markdown",
   "metadata": {}
  },
  {
   "cell_type": "code",
   "execution_count": 37,
   "metadata": {},
   "outputs": [],
   "source": [
    "from tkinter import *\n",
    "from PIL import ImageTk, Image\n",
    "\n",
    "root = Tk()\n",
    "root.title(\"Drop Down Box\")\n",
    "root.geometry(\"400x400\")\n",
    "\n",
    "def show():\n",
    "    my_label = Label(root, text=clicked.get()).pack()\n",
    "\n",
    "options = [\"Monday\", \"Tuesday\", \"Wednesday\", \"Thursday\", \"Friday\"]\n",
    "\n",
    "clicked = StringVar()\n",
    "clicked.set(options[0])   # Initial value\n",
    "\n",
    "#drop = OptionMenu(root, clicked, \"Monday\", \"Tuesday\", \"Wednesday\", \"Thursday\", \"Friday\")\n",
    "drop = OptionMenu(root, clicked, *options)\n",
    "drop.pack()\n",
    "\n",
    "my_btn = Button(root, text=\"Show Selection\", command=show).pack()\n",
    "\n",
    "mainloop()"
   ]
  },
  {
   "source": [
    "## Using Databases\n",
    "\n",
    "You can transform a existing csv file to a data base using the terminal, with the follow commandss:\n",
    "\n",
    "sqlite3\n",
    ".mode csv\n",
    ".import \"nameOfTheFile.csv\" nameOfTheTable"
   ],
   "cell_type": "markdown",
   "metadata": {}
  },
  {
   "cell_type": "code",
   "execution_count": null,
   "metadata": {},
   "outputs": [],
   "source": [
    "import sqlite3\n",
    "# Create a database or connect to one\n",
    "conn = sqlite3.connect(\"address_book.db\")\n",
    "\n",
    "# everytime we want to execute something we have to activate the cursor\n",
    "c = conn.cursor()\n",
    "\n",
    "# everytime we make a change to the database we have to commit that change\n",
    "conn.commit()\n",
    "\n",
    "# and close our connection\n",
    "conn.close()"
   ]
  },
  {
   "cell_type": "code",
   "execution_count": 4,
   "metadata": {},
   "outputs": [],
   "source": [
    "from tkinter import *\n",
    "from PIL import ImageTk, Image\n",
    "import sqlite3\n",
    "\n",
    "root = Tk()\n",
    "root.title(\"Data Base\")\n",
    "root.geometry(\"400x400\")\n",
    "\n",
    "# Create a database or connect to one\n",
    "conn = sqlite3.connect(\"address_book.db\")\n",
    "\n",
    "# everytime we want to execute something we have to activate the cursor\n",
    "c = conn.cursor()\n",
    "\n",
    "# # Create table\n",
    "# c.execute(\"\"\"CREATE TABLE addresses (\n",
    "#     first_name text,\n",
    "#     last_name text,\n",
    "#     address text,\n",
    "#     city text,\n",
    "#     state text,\n",
    "#     zipcode integer\n",
    "#     )\n",
    "# \"\"\")\n",
    "\n",
    "# everytime we make a change to the database we have to commit that change\n",
    "conn.commit()\n",
    "\n",
    "# and close our connection\n",
    "conn.close()\n",
    "root.mainloop()"
   ]
  },
  {
   "source": [
    "## Data Base\n",
    "\n",
    "The sqlite_sequence table is created and initialized automatically whenever a normal table that contains an AUTOINCREMENT column is created. The content of the sqlite_sequence table can be modified using ordinary UPDATE, INSERT, and DELETE statements. But making modifications to this table will likely perturb the AUTOINCREMENT key generation algorithm.\n",
    "\n",
    "The statement \"IF NOT EXISTS\" is like a bolean that if true continues, if false doesnt do what is next."
   ],
   "cell_type": "markdown",
   "metadata": {}
  },
  {
   "cell_type": "code",
   "execution_count": null,
   "metadata": {},
   "outputs": [],
   "source": [
    "# Create a Table\n",
    "my_cursor.execute(\"\"\"CREATE TABLE  IF NOT EXISTS customers (\n",
    "    first_name text,\n",
    "    last_name text,\n",
    "    zipcode integer,\n",
    "    price_paid real,\n",
    "    id INTEGER PRIMARY KEY\n",
    "    )\"\"\")"
   ]
  },
  {
   "source": [
    "## Labels VS Boxes\n"
   ],
   "cell_type": "markdown",
   "metadata": {}
  },
  {
   "cell_type": "code",
   "execution_count": null,
   "metadata": {},
   "outputs": [],
   "source": [
    "from tkinter import *\n",
    "root = Tk()\n",
    "root.title(\"Client Relation Manager\")\n",
    "root.geometry(\"400x400\")\n",
    "\n",
    "# With labels we can wrap .grid in the same line\n",
    "first_name_label = Label(root, text=\"First Name\").grid(row=14, column=0)\n",
    "\n",
    "# With boxes you can't\n",
    "first_name_box = Entry(root)\n",
    "first_name_box.grid(row=1, column=1)"
   ]
  },
  {
   "source": [
    "## fetchall()\n",
    "\n",
    "To retrieve data after executing a SELECT statement, you can either treat the cursor as an iterator, call the cursor’s fetchone() method to retrieve a single matching row, or call fetchall() to get a list of the matching rows.\n",
    "\n",
    "    t = ('RHAT',)\n",
    "    c.execute('SELECT * FROM stocks WHERE symbol=?', t)\n",
    "    print c.fetchone()"
   ],
   "cell_type": "markdown",
   "metadata": {}
  },
  {
   "source": [
    "## Python EXE Executable\n",
    "\n",
    "Website: https://www.pyinstaller.org/  \n",
    "\n",
    "Example in exe file : C:\\Users\\Frede\\OneDrive\\Ambiente de Trabalho\\Frederico Gago\\Educação\\Programação\\Python\\projects_GUI\\gui_training\\exe\n",
    "\n",
    "Note: There are better options\n",
    "\n",
    "1. Install: pip install pyinstaller\n",
    "2. Terminal: go to the directory\n",
    "3. Terminal: pyinstaller.exe --onefile --icon=codemy.ico --windowed entry_height.py\n",
    "4. Can delete the files: __pycache__ ; build ; entry_height.spec ;\n",
    "5. Inside de dist folder you have your program, you can rename it and change the location of the program (outside the dist)\n",
    "\n",
    "Note: Use the flag --windowed, so that black console window won't show up.\n",
    "\n"
   ],
   "cell_type": "markdown",
   "metadata": {}
  },
  {
   "source": [
    "## Delete Labels\n",
    "\n",
    "With pack system:\n",
    "\n",
    "* myLabel.pack_forget()\n",
    "\n",
    "With grid system:\n",
    "\n",
    "* myLabel.grid_forget()\n",
    "\n",
    "Both:\n",
    "\n",
    "* myLabel.destroy()"
   ],
   "cell_type": "markdown",
   "metadata": {}
  },
  {
   "source": [
    "## Grid Overwrite Problem"
   ],
   "cell_type": "markdown",
   "metadata": {}
  },
  {
   "cell_type": "code",
   "execution_count": 6,
   "metadata": {},
   "outputs": [],
   "source": [
    "from tkinter import *\n",
    "\n",
    "root = Tk()\n",
    "root.title('Codemy.com - Learn To Code!')\n",
    "root.geometry(\"400x400\")\n",
    "\n",
    "# Define the label at the beginning of the code\n",
    "myLabel = Label(root)\n",
    "\n",
    "def myClick():\n",
    "    global myLabel\n",
    "    # Then destroy it\n",
    "    myLabel.destroy()\n",
    "    hello = \"Hello \" + e.get()\n",
    "    myLabel = Label(root, text=hello)\n",
    "    e.delete(0, 'end')\n",
    "    myLabel.pack(pady=10)\n",
    "\n",
    "e = Entry(root, width=50, font=('Helvetica', 30))\n",
    "e.pack(padx=10, pady=10)\n",
    "\n",
    "myButton = Button(root, text=\"Enter Your Name\", command=myClick)\n",
    "myButton.pack(pady=10)\n",
    "\n",
    "root.mainloop()"
   ]
  },
  {
   "source": [
    "## States of the button\n",
    "\n",
    "Using inside a function ill give a desirable cycle\n",
    "\n",
    "    myButton[\"state\"] = DISABLED\n",
    "    myButton[\"state\"] = NORMAL"
   ],
   "cell_type": "markdown",
   "metadata": {}
  },
  {
   "source": [
    "## Classes With Tkinter"
   ],
   "cell_type": "markdown",
   "metadata": {}
  },
  {
   "cell_type": "code",
   "execution_count": 9,
   "metadata": {},
   "outputs": [
    {
     "output_type": "stream",
     "name": "stdout",
     "text": [
      "Look at you... you clicked a button!\n"
     ]
    }
   ],
   "source": [
    "from tkinter import *\n",
    "\n",
    "root = Tk()\n",
    "root.title('Codemy.com - Learn To Code!')\n",
    "root.geometry(\"400x400\")\n",
    "\n",
    "class Elder:\n",
    "    def __init__(self, master): # master is the window (root)\n",
    "        myFrame = Frame(master)\n",
    "        myFrame.pack()\n",
    "\n",
    "        self.myButton = Button(master, text=\"Click me!\", command=self.clicker)\n",
    "        self.myButton.pack(pady=20)\n",
    "    \n",
    "    def clicker(self):\n",
    "        print(\"Look at you... you clicked a button!\")\n",
    "\n",
    "e = Elder(root)\n",
    "\n",
    "root.mainloop()"
   ]
  },
  {
   "source": [
    "## Key event binding (shortcuts)\n",
    "\n",
    "* .bind(\"<event>\", action)\n",
    "\n",
    "Usefull link: http://effbot.org/tkinterbook/tkinter-events-and-bindings.htm\n",
    "\n",
    "For example if we want that with a left click mouse you do something:"
   ],
   "cell_type": "markdown",
   "metadata": {}
  },
  {
   "cell_type": "code",
   "execution_count": 19,
   "metadata": {},
   "outputs": [],
   "source": [
    "from tkinter import *\n",
    "\n",
    "root = Tk()\n",
    "root.title('Codemy.com - Learn To Code!')\n",
    "root.geometry(\"400x400\")\n",
    "\n",
    "def clicker(event):\n",
    "    myLabel = Label(root, text=\"You clicked this button: \" + str(event))\n",
    "    myLabel.pack()\n",
    "\n",
    "myButton = Button(root, text=\"click me\")\n",
    "myButton.bind(\"<Button-3>\", clicker)\n",
    "myButton.pack(pady=20)\n",
    "\n",
    "root.mainloop()"
   ]
  },
  {
   "source": [
    "## Dropdown Box\n",
    "\n",
    "When select a option on the dropbox it appear automatically\n",
    "\n",
    "\n",
    "O método bind() é a forma de ligar a função de retorno com o evento virtual da combobox quando o usuário seleciona um elemento na lista suspensa.\n",
    "\n",
    "    comboExample.bind(\"<<ComboboxSelected>>\", callbackFunc)"
   ],
   "cell_type": "markdown",
   "metadata": {}
  },
  {
   "cell_type": "code",
   "execution_count": 1,
   "metadata": {},
   "outputs": [],
   "source": [
    "from tkinter import *\n",
    "from tkinter import ttk # to use the combodropbox\n",
    "\n",
    "root = Tk()\n",
    "root.title('Codemy.com - Learn To Code!')\n",
    "root.geometry(\"400x400\")\n",
    "\n",
    "def selected(event):\n",
    "    myLabel = Label(root, text=clicked.get()).pack()\n",
    "\n",
    "def comboClick(event):\n",
    "    myLabel = Label(root, text=myCombo.get()).pack()\n",
    "\n",
    "options= [\n",
    "    \"Monday\",\n",
    "    \"Tuesday\",\n",
    "    \"wednesday\",\n",
    "    \"Thursday\",\n",
    "    \"Friday\",\n",
    "    \"Saturday\",\n",
    "    \"Sunday\",\n",
    "]\n",
    "\n",
    "clicked = StringVar()\n",
    "clicked.set(options[0]) # Create Default Value\n",
    "\n",
    "drop = OptionMenu(root, clicked, *options, command=selected)\n",
    "drop.pack(pady=20)\n",
    "\n",
    "# myButton = Button(root, text=\"select from list\", command=selected)\n",
    "# myButton.pack()\n",
    "\n",
    "# Another type of dropbox ComboBox\n",
    "\n",
    "myCombo = ttk.Combobox(root, value=options)\n",
    "myCombo.current(0)  # Default value\n",
    "myCombo.bind(\"<<ComboboxSelected>>\", comboClick)\n",
    "myCombo.pack()\n",
    "\n",
    "root.mainloop()"
   ]
  },
  {
   "source": [
    "## Menus at the top & Frames"
   ],
   "cell_type": "markdown",
   "metadata": {}
  },
  {
   "cell_type": "code",
   "execution_count": 6,
   "metadata": {},
   "outputs": [],
   "source": [
    "from tkinter import *\n",
    "\n",
    "root = Tk()\n",
    "root.title('Codemy.com - Learn To Code!')\n",
    "root.geometry(\"400x400\")\n",
    "\n",
    "# click command\n",
    "def our_command():\n",
    "    my_label = Label(root, text=\"You Clicked a Dropdown Menu!\").pack()\n",
    "\n",
    "\n",
    "# Use of the frame\n",
    "def file_new():\n",
    "    hide_all_frames()\n",
    "    file_new_frame.pack(fill=\"both\", expand=1)\n",
    "    my_label = Label(file_new_frame, text=\"You Clicked the File >> New Menu!\").pack()\n",
    "\n",
    "def edit_cut():\n",
    "    hide_all_frames()\n",
    "    edit_cut_frame.pack(fill=\"both\", expand=1)\n",
    "    my_label = Label(edit_cut_frame, text=\"You Clicked the Edit >> Cut\").pack()\n",
    "\n",
    "# hide all frames function\n",
    "def hide_all_frames():\n",
    "    # winfo_children ill give all the children in the parent frame (all widgets)\n",
    "    # Looping truth all children and destroy them\n",
    "    for widget in file_new_frame.winfo_children():  \n",
    "        widget.destroy()\n",
    "    for widget in edit_cut_frame.winfo_children():\n",
    "        widget.destroy()\n",
    "\n",
    "    file_new_frame.pack_forget()\n",
    "    edit_cut_frame.pack_forget()\n",
    "\n",
    "\n",
    "my_menu = Menu(root)\n",
    "# Use my_menu as menu\n",
    "root.config(menu=my_menu)\n",
    "\n",
    "# Create a menu item\n",
    "file_menu = Menu(my_menu)\n",
    "# with menus we cascade instead of pack or grid\n",
    "my_menu.add_cascade(label=\"File\", menu=file_menu)\n",
    "file_menu.add_command(label=\"New\", command=file_new)\n",
    "file_menu.add_separator()   # Create a bar to separete labels\n",
    "file_menu.add_command(label=\"Exit\", command=root.quit)\n",
    "\n",
    "# Create an edit menu item\n",
    "edit_menu = Menu(my_menu)\n",
    "my_menu.add_cascade(label=\"Edit\", menu=edit_menu)\n",
    "edit_menu.add_command(label=\"Cut\", command=edit_cut)\n",
    "edit_menu.add_command(label=\"Copy\", command=our_command)\n",
    "\n",
    "# create an option menu\n",
    "option_menu = Menu(my_menu)\n",
    "my_menu.add_cascade(label=\"Options\", menu=option_menu)\n",
    "option_menu.add_command(label=\"Find\", command=our_command)\n",
    "option_menu.add_command(label=\"Find Next\", command=our_command)\n",
    "\n",
    "# Create Some Frames\n",
    "file_new_frame = Frame(root, width=400, height=400, bg=\"red\")\n",
    "edit_cut_frame = Frame(root, width=400, height=400, bg=\"blue\")\n",
    "\n",
    "root.mainloop()"
   ]
  },
  {
   "source": [
    "## Paned Windows\n",
    "\n",
    "Resizable windows inside your app"
   ],
   "cell_type": "markdown",
   "metadata": {}
  },
  {
   "cell_type": "code",
   "execution_count": 5,
   "metadata": {},
   "outputs": [],
   "source": [
    "from tkinter import *\n",
    "\n",
    "root = Tk()\n",
    "root.title('Codemy.com - Learn To Code!')\n",
    "root.geometry(\"400x400\")\n",
    "\n",
    "# Panels\n",
    "panel_1 = PanedWindow(bd=4, relief=\"raised\", bg=\"red\")\n",
    "panel_1.pack(fill=BOTH, expand=1)\n",
    "\n",
    "left_label = Label(panel_1, text=\"Left_panel\")\n",
    "panel_1.add(left_label)\n",
    "\n",
    "# Create second panel (child of the first)\n",
    "panel_2 = PanedWindow(panel_1, orient=VERTICAL, bd=4, relief=\"raised\", bg=\"blue\")\n",
    "panel_1.add(panel_2)\n",
    "\n",
    "top = Label(panel_2, text=\"Top Panel\")\n",
    "panel_2.add(top)\n",
    "\n",
    "bottom = Label(panel_2, text=\"Bottom Panel\")\n",
    "panel_2.add(bottom)\n",
    "\n",
    "root.mainloop()"
   ]
  },
  {
   "source": [
    "## List Box"
   ],
   "cell_type": "markdown",
   "metadata": {}
  },
  {
   "cell_type": "code",
   "execution_count": 15,
   "metadata": {},
   "outputs": [],
   "source": [
    "from tkinter import *\n",
    "\n",
    "root = Tk()\n",
    "root.title('Codemy.com - Learn To Code!')\n",
    "root.geometry(\"400x400\")\n",
    "\n",
    "# Create a frame and scrollbar\n",
    "my_frame = Frame(root)\n",
    "my_scrollbar = Scrollbar(my_frame, orient=VERTICAL)\n",
    "\n",
    "# Listbox!\n",
    "# The can be SINGLE, BROWSE, MULTIPLE, EXTENDED (use ctrl and swift to select)\n",
    "my_lisbox = Listbox(my_frame, width=50, yscrollcommand=my_scrollbar.set, selectmode=MULTIPLE)\n",
    "\n",
    "# config scrollbar\n",
    "my_scrollbar.config(command=my_lisbox.yview)\n",
    "my_scrollbar.pack(side=RIGHT, fill=Y)\n",
    "my_frame.pack()\n",
    "\n",
    "my_lisbox.pack(pady=15)\n",
    "\n",
    "\n",
    "\n",
    "# Add item to listbox\n",
    "my_lisbox.insert(END, \"This is an item\")\n",
    "my_lisbox.insert(END, \"This the second item\")\n",
    "\n",
    "# Add list of items\n",
    "my_list = [\"One\", \"Two\", \"Three\",\"One\", \"Two\", \"Three\",\"One\", \"Two\", \"Three\",\"One\", \"Two\", \"Three\",\"One\", \"Two\", \"Three\",\"One\", \"Two\", \"Three\"]\n",
    "\n",
    "for item in my_list:\n",
    "    my_lisbox.insert(END, item)\n",
    "\n",
    "def delete():\n",
    "    my_lisbox.delete(ANCHOR)    # Delete what is selected\n",
    "    my_label.config(text=\"\")\n",
    "\n",
    "my_button = Button(root, text=\"Delete\", command=delete)\n",
    "my_button.pack(pady=10)\n",
    "\n",
    "def select():\n",
    "    my_label.config(text=my_lisbox.get(ANCHOR))\n",
    "\n",
    "my_button2 = Button(root, text=\"Select\", command=select)\n",
    "my_button2.pack(pady=10)\n",
    "\n",
    "global my_label\n",
    "my_label = Label(root, text=\"\")\n",
    "my_label.pack(pady=5)\n",
    "\n",
    "def delete_all():\n",
    "    my_lisbox.delete(0, END)\n",
    "\n",
    "my_button3 = Button(root, text=\"Delete All\", command=delete_all)\n",
    "my_button3.pack(pady=10)\n",
    "\n",
    "def select_all():\n",
    "    #print(my_lisbox.curselection()) # Ill give the index of the elements select (0,1,4)\n",
    "    result = \"\"\n",
    "    for item in my_lisbox.curselection():\n",
    "        result = result + str(my_lisbox.get(item)) + \"\\n\"\n",
    "\n",
    "    my_label.config(text=result)\n",
    "\n",
    "\n",
    "my_button4 = Button(root, text=\"Select All\", command=select_all)\n",
    "my_button4.pack(pady=10)\n",
    "\n",
    "def delete_multiple():\n",
    "    for item in reversed(my_lisbox.curselection()):\n",
    "       my_lisbox.delete(item)\n",
    "\n",
    "\n",
    "my_button5 = Button(root, text=\"Delete Multiple\", command=delete_multiple)\n",
    "my_button5.pack(pady=10)\n",
    "\n",
    "root.mainloop()"
   ]
  },
  {
   "source": [
    "## Config()"
   ],
   "cell_type": "markdown",
   "metadata": {}
  },
  {
   "cell_type": "code",
   "execution_count": null,
   "metadata": {},
   "outputs": [],
   "source": [
    "from tkinter import *\n",
    "\n",
    "root = Tk()\n",
    "root.title('Codemy.com - Learn To Code!')\n",
    "root.geometry(\"400x400\")\n",
    "\n",
    "def something():\n",
    "    my_label.config(text=\"This is new text!\")\n",
    "    root.config(bg=\"blue\")\n",
    "\n",
    "global my_label\n",
    "my_label = Label(root, text=\"This is my text\", font=(\"Helvetica\",18))\n",
    "my_label.pack(pady=10)\n",
    "\n",
    "my_button = Button(root, text=\"Click Me!\", command=something)\n",
    "my_button.pack(pady=10)\n",
    "\n",
    "root.mainloop()"
   ]
  },
  {
   "source": [
    "## Tabs"
   ],
   "cell_type": "markdown",
   "metadata": {}
  },
  {
   "cell_type": "code",
   "execution_count": 20,
   "metadata": {},
   "outputs": [],
   "source": [
    "from tkinter import *\n",
    "from tkinter import ttk\n",
    "\n",
    "root = Tk()\n",
    "root.title('Codemy.com - Learn To Code!')\n",
    "root.geometry(\"400x400\")\n",
    "\n",
    "my_notebook = ttk.Notebook(root)\n",
    "my_notebook.pack()\n",
    "\n",
    "def hide():\n",
    "    my_notebook.hide(1) # Index 1 is the second tab\n",
    "\n",
    "def show():\n",
    "    my_notebook.add(my_frame2, text=\"Red Tab\")\n",
    "\n",
    "def select():\n",
    "    my_notebook.select(1)   # Index 1 is the second tab\n",
    "\n",
    "# Each tab ill be a frame\n",
    "my_frame1 = Frame(my_notebook, width=500, height=500, bg=\"blue\")\n",
    "my_frame2 = Frame(my_notebook, width=500, height=500, bg=\"red\")\n",
    "\n",
    "my_frame1.pack(fill=\"both\", expand=1)\n",
    "my_frame2.pack(fill=\"both\", expand=1)\n",
    "\n",
    "my_notebook.add(my_frame1, text=\"Blue Tab\")\n",
    "my_notebook.add(my_frame2, text=\"Red Tab\")\n",
    "\n",
    "my_button = Button(my_frame1, text=\"Hide Tab 2\", command=hide).pack(pady=10)\n",
    "my_button2 = Button(my_frame1, text=\"Show Tab 2\", command=show).pack(pady=10)\n",
    "\n",
    "# Navigate to a tab\n",
    "my_button3 = Button(my_frame1, text=\"Navigate to tab 2\", command=select).pack(pady=10)\n",
    "\n",
    "\n",
    "root.mainloop()"
   ]
  },
  {
   "source": [
    "# Round Buttons & Image Buttons\n",
    "\n",
    "Tkinter doesnt have round buttons but we can use images in buttons"
   ],
   "cell_type": "markdown",
   "metadata": {}
  },
  {
   "source": [
    "## Open Files with Tkinter"
   ],
   "cell_type": "markdown",
   "metadata": {}
  },
  {
   "cell_type": "code",
   "execution_count": 1,
   "metadata": {},
   "outputs": [],
   "source": [
    "from tkinter import *\n",
    "from tkinter import filedialog\n",
    "import os\n",
    "\n",
    "root = Tk()\n",
    "root.title('Codemy.com - Learn To Code!')\n",
    "root.geometry(\"400x400\")\n",
    "\n",
    "def open_program():\n",
    "    my_program = filedialog.askopenfilename()\n",
    "    os.system('\"%s\"' % my_program)\n",
    "\n",
    "my_button = Button(root, text=\"Open Program\", command=open_program)\n",
    "my_button.pack(pady=20)\n",
    "\n",
    "root.mainloop()"
   ]
  }
 ]
}