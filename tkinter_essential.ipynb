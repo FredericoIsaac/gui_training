{
 "metadata": {
  "language_info": {
   "codemirror_mode": {
    "name": "ipython",
    "version": 3
   },
   "file_extension": ".py",
   "mimetype": "text/x-python",
   "name": "python",
   "nbconvert_exporter": "python",
   "pygments_lexer": "ipython3",
   "version": "3.8.3-final"
  },
  "orig_nbformat": 2,
  "kernelspec": {
   "name": "Python 3.8.3 32-bit",
   "display_name": "Python 3.8.3 32-bit",
   "metadata": {
    "interpreter": {
     "hash": "fee04717e200c41890f914d41448309315c9835eadcb1ec78881c144ca56f19b"
    }
   }
  }
 },
 "nbformat": 4,
 "nbformat_minor": 2,
 "cells": [
  {
   "source": [
    "# Graphical User Interface (GUI)"
   ],
   "cell_type": "markdown",
   "metadata": {}
  },
  {
   "cell_type": "code",
   "execution_count": 1,
   "metadata": {},
   "outputs": [],
   "source": [
    "from tkinter import *\n",
    "\n",
    "# Create tkinter object\n",
    "root = Tk()\n",
    "\n",
    "# Create a label widget\n",
    "myLabel1 = Label(root, text=\"Hello World!\")\n",
    "myLabel2 = Label(root, text=\"My name is Fred\")\n",
    "\n",
    "# Add the created widget to the screnn\n",
    "myLabel1.pack()         # pack is a way to consolidate the label as it is\n",
    "\n",
    "# The main loop\n",
    "root.mainloop()"
   ]
  },
  {
   "source": [
    "## Using Grid do display\n",
    "\n",
    "Using the grid system instead os pack()"
   ],
   "cell_type": "markdown",
   "metadata": {}
  },
  {
   "cell_type": "code",
   "execution_count": null,
   "metadata": {},
   "outputs": [],
   "source": [
    "from tkinter import *\n",
    "\n",
    "# Create tkinter object\n",
    "root = Tk()\n",
    "\n",
    "# Create a label widget\n",
    "myLabel1 = Label(root, text=\"Hello World!\")\n",
    "myLabel2 = Label(root, text=\"My name is Fred\")\n",
    "\n",
    "# Using grid to display the label\n",
    "myLabel1.grid(row=0, column=0)\n",
    "myLabel2.grid(row=1, column=1)\n",
    "\n",
    "\n",
    "# The main loop\n",
    "root.mainloop()"
   ]
  },
  {
   "source": [
    "## Creating Buttons\n",
    "\n",
    "Parameters information: https://www.tutorialspoint.com/python/tk_button.htm"
   ],
   "cell_type": "markdown",
   "metadata": {}
  },
  {
   "cell_type": "code",
   "execution_count": 7,
   "metadata": {},
   "outputs": [],
   "source": [
    "from tkinter import *\n",
    "\n",
    "root = Tk()\n",
    "\n",
    "# When button clicked does:\n",
    "def myClick():\n",
    "    myLabel = Label(root, text=\"Look! I was clicked!!\")\n",
    "    myLabel.pack()\n",
    "\n",
    "myButton = Button(root, text=\"Click Me!\", state=ACTIVE, padx=50, pady=50, command=myClick) # with state \"DISABLED\" the button dont work\n",
    "myButton.pack()\n",
    "\n",
    "root.mainloop()"
   ]
  },
  {
   "source": [
    "## Creating Input Fields"
   ],
   "cell_type": "markdown",
   "metadata": {}
  },
  {
   "cell_type": "code",
   "execution_count": 8,
   "metadata": {},
   "outputs": [],
   "source": [
    "from tkinter import *\n",
    "\n",
    "root = Tk()\n",
    "\n",
    "# add box entry\n",
    "e = Entry(root, width=50, borderwidth=5)\n",
    "# Put it on the screen\n",
    "e.pack()\n",
    "# Insert a default text\n",
    "e.insert(0, \"Enter your Name: \")\n",
    "\n",
    "def myClick():\n",
    "    myLabel = Label(root, text=\"Hello \" + e.get()) #e.get() ill get the info that is in the text box\n",
    "    myLabel.pack()\n",
    "\n",
    "myButton = Button(root, text=\"Enter your name\", state=ACTIVE, padx=50, pady=50, command=myClick) # with state \"DISABLED\" the button dont work\n",
    "myButton.pack()\n",
    "\n",
    "root.mainloop()\n"
   ]
  },
  {
   "source": [
    "## Icons, Images and Exit Buttons\n"
   ],
   "cell_type": "markdown",
   "metadata": {}
  },
  {
   "cell_type": "code",
   "execution_count": 2,
   "metadata": {},
   "outputs": [],
   "source": [
    "from tkinter import *\n",
    "# To get images manipulation\n",
    "from PIL import ImageTk, Image\n",
    "\n",
    "root = Tk()\n",
    "root.title(\"Learn to code at Codemy.com\")\n",
    "\n",
    "# Manipulating images\n",
    "my_img = ImageTk.PhotoImage(Image.open(\"images\\purpl_circle.jpg\"))\n",
    "my_label = Label(image=my_img)\n",
    "my_label.pack()\n",
    "# Get image for logo\n",
    "root.iconbitmap(\"images\\confere_logo.ico\")\n",
    "\n",
    "# Exit button\n",
    "button_quit = Button(root, text=\"Exit Program\", command=root.quit)\n",
    "button_quit.pack()\n",
    "\n",
    "root.mainloop()"
   ]
  },
  {
   "source": [
    "## Frames"
   ],
   "cell_type": "markdown",
   "metadata": {}
  },
  {
   "cell_type": "code",
   "execution_count": 4,
   "metadata": {},
   "outputs": [],
   "source": [
    "from tkinter import *\n",
    "\n",
    "root = Tk()\n",
    "root.title(\"Frames\")\n",
    "\n",
    "frame = LabelFrame(root, text=\"This is my frame...\", padx=50, pady=50)\n",
    "frame.pack(padx=10, pady=10)\n",
    "\n",
    "button_widget = Button(frame, text=\"Don't Click here!\")\n",
    "button_widget.grid(row=0, column=0)    # you can use a grid inside the frame\n",
    "\n",
    "root.mainloop()"
   ]
  },
  {
   "source": [
    "## Radio Buttons"
   ],
   "cell_type": "markdown",
   "metadata": {}
  },
  {
   "cell_type": "code",
   "execution_count": 9,
   "metadata": {},
   "outputs": [],
   "source": [
    "from tkinter import *\n",
    "from PIL import ImageTk, Image\n",
    "\n",
    "root = Tk()\n",
    "root.title(\"Radio Buttons\")\n",
    "\n",
    "#r = IntVar()\n",
    "##r = StringVar()   # if the value was a string \n",
    "#r.set()\n",
    "\n",
    "def clicked(value):\n",
    "    my_label = Label(root, text=value)\n",
    "    my_label.pack()\n",
    "\n",
    "MODES = [\n",
    "    (\"Pepperoni\", \"Pepperoni\"),\n",
    "    (\"Cheese\", \"Cheese\"),\n",
    "    (\"Mushroom\", \"Mushroom\"),\n",
    "    (\"Onion\", \"Onion\")\n",
    "]\n",
    "\n",
    "pizza = StringVar()\n",
    "pizza.set(\"Pepperoni\")\n",
    "\n",
    "for text, mode in MODES:\n",
    "    Radiobutton(root, text=text, variable=pizza, value=mode).pack(anchor=W)\n",
    "\n",
    "#Radiobutton(root, text=\"Option 1\", variable=r, value=1, command= lambda: clicked(r.get())).pack()\n",
    "#Radiobutton(root, text=\"Option 2\", variable=r, value=2, command= lambda: clicked(r.get())).pack()\n",
    "\n",
    "##my_label = Label(root, text=r.get())\n",
    "#my_label = Label(root, text=pizza.get())\n",
    "#my_label.pack()\n",
    "\n",
    "#myButton = Button(root, text=\"Click Me!\", command= lambda: clicked(r.get()))\n",
    "myButton = Button(root, text=\"Click Me!\", command= lambda: clicked(pizza.get()))\n",
    "myButton.pack()\n",
    "mainloop()"
   ]
  },
  {
   "source": [
    "## Message Box's"
   ],
   "cell_type": "markdown",
   "metadata": {}
  },
  {
   "cell_type": "code",
   "execution_count": 11,
   "metadata": {},
   "outputs": [],
   "source": [
    "from tkinter import *\n",
    "from PIL import ImageTk, Image\n",
    "from tkinter import messagebox\n",
    "\n",
    "root = Tk()\n",
    "root.title(\"Message\")\n",
    "\n",
    "# showinfo, showwarning, showerror, askquestion, askokcancel, askyesno\n",
    "\n",
    "def popup():\n",
    "    response = messagebox.askyesno(\"This is my Popup!\", \"Hello World!\")\n",
    "    Label(root, text=response).pack()\n",
    "    # if response == 1:\n",
    "    #     Label(root, text=\"You clicked yes\").pack()\n",
    "    # else:\n",
    "    #     Label(root, text=\"You clicked no\").pack()\n",
    "\n",
    "Button(root, text=\"Popup\", command=popup).pack()\n",
    "\n",
    "mainloop()"
   ]
  },
  {
   "source": [
    "## Create a new window"
   ],
   "cell_type": "markdown",
   "metadata": {}
  },
  {
   "cell_type": "code",
   "execution_count": 20,
   "metadata": {},
   "outputs": [],
   "source": [
    "from tkinter import *\n",
    "from PIL import ImageTk, Image\n",
    "\n",
    "root = Tk()\n",
    "root.title(\"Create window\")\n",
    "root.geometry(\"500x500\")\n",
    "\n",
    "def open():\n",
    "    global my_img   # We have to put global to the img so that appear in the second window when inseide a funtion\n",
    "    top = Toplevel()    # Create a new window\n",
    "    top.title(\"My second window\")\n",
    "    top.geometry(\"500x500\")\n",
    "    lbl = Label(top, text=\"Hello world\").pack()\n",
    "    my_img = ImageTk.PhotoImage(Image.open(\"images\\confere_logo.ico\"))\n",
    "    my_label = Label(top, image=my_img).pack()\n",
    "\n",
    "    btn2 = Button(top, text=\"Close window\", command=top.destroy).pack()\n",
    "\n",
    "\n",
    "btn = Button(root, text=\"Open second window\", command=open).pack()\n",
    "\n",
    "\n",
    "\n",
    "\n",
    "mainloop()"
   ]
  },
  {
   "source": [
    "## Open files Dialog"
   ],
   "cell_type": "markdown",
   "metadata": {}
  },
  {
   "cell_type": "code",
   "execution_count": 26,
   "metadata": {},
   "outputs": [],
   "source": [
    "from tkinter import *\n",
    "from PIL import ImageTk, Image\n",
    "from tkinter import filedialog\n",
    "\n",
    "root = Tk()\n",
    "root.title(\"Dialog\")\n",
    "\n",
    "# root.filename = filedialog.askopenfilename(initialdir=\"images/\", title=\"Select a File\", filetypes=((\"jpg files\", \"*.jpg\"),(\"all files\", \"*.*\")))\n",
    "# my_label = Label(root, text=root.filename).pack()\n",
    "\n",
    "# my_image = ImageTk.PhotoImage(Image.open(root.filename))\n",
    "# my_image_label = Label(image=my_image).pack()\n",
    "\n",
    "def open():\n",
    "    global my_image\n",
    "    root.filename = filedialog.askopenfilename(initialdir=\"images/\", title=\"Select a File\", filetypes=((\"jpg files\", \"*.jpg\"),(\"all files\", \"*.*\")))\n",
    "    my_label = Label(root, text=root.filename).pack()\n",
    "\n",
    "    my_image = ImageTk.PhotoImage(Image.open(root.filename))\n",
    "    my_image_label = Label(image=my_image).pack()\n",
    "\n",
    "my_btn = Button(root, text=\"Open File\", command=open)\n",
    "my_btn.pack()\n",
    "\n",
    "mainloop()"
   ]
  },
  {
   "source": [
    "# Sliders"
   ],
   "cell_type": "markdown",
   "metadata": {}
  },
  {
   "cell_type": "code",
   "execution_count": 34,
   "metadata": {},
   "outputs": [],
   "source": [
    "from tkinter import *\n",
    "from PIL import ImageTk, Image\n",
    "\n",
    "root = Tk()\n",
    "root.title(\"Sliders\")\n",
    "root.geometry(\"400x400\")\n",
    "\n",
    "def slide():\n",
    "    my_label = Label(root, text=horizontal.get()).pack()\n",
    "    root.geometry(str(horizontal.get()) + \"x400\")\n",
    "\n",
    "vertical = Scale(root, from_=0, to=200)\n",
    "vertical.pack()\n",
    "\n",
    "horizontal = Scale(root, from_=0, to=200, orient=HORIZONTAL)\n",
    "horizontal.pack()\n",
    "\n",
    "\n",
    "my_btn = Button(root, text=\"Click me!\", command=slide).pack()\n",
    "\n",
    "mainloop()"
   ]
  },
  {
   "source": [
    "## Check Boxes"
   ],
   "cell_type": "markdown",
   "metadata": {}
  },
  {
   "source": [
    "from tkinter import *\n",
    "from PIL import ImageTk, Image\n",
    "\n",
    "root = Tk()\n",
    "root.title(\"Check Box\")\n",
    "root.geometry(\"400x400\")\n",
    "\n",
    "#var = IntVar()\n",
    "var = StringVar()\n",
    "\n",
    "c = Checkbutton(root, text=\"Check this box, I dare You!\", variable=var, onvalue=\"Pizza\", offvalue=\"Hamburger\")\n",
    "c.deselect()\n",
    "c.pack()\n",
    "\n",
    "def show():\n",
    "    my_label = Label(root, text=var.get()).pack()\n",
    "\n",
    "\n",
    "myButton = Button(root, text=\"Show Selection\", command=show)\n",
    "myButton.pack()\n",
    "\n",
    "mainloop()"
   ],
   "cell_type": "code",
   "metadata": {},
   "execution_count": 35,
   "outputs": []
  },
  {
   "source": [
    "## Drop Down Boxes"
   ],
   "cell_type": "markdown",
   "metadata": {}
  },
  {
   "cell_type": "code",
   "execution_count": 37,
   "metadata": {},
   "outputs": [],
   "source": [
    "from tkinter import *\n",
    "from PIL import ImageTk, Image\n",
    "\n",
    "root = Tk()\n",
    "root.title(\"Drop Down Box\")\n",
    "root.geometry(\"400x400\")\n",
    "\n",
    "def show():\n",
    "    my_label = Label(root, text=clicked.get()).pack()\n",
    "\n",
    "options = [\"Monday\", \"Tuesday\", \"Wednesday\", \"Thursday\", \"Friday\"]\n",
    "\n",
    "clicked = StringVar()\n",
    "clicked.set(options[0])   # Initial value\n",
    "\n",
    "#drop = OptionMenu(root, clicked, \"Monday\", \"Tuesday\", \"Wednesday\", \"Thursday\", \"Friday\")\n",
    "drop = OptionMenu(root, clicked, *options)\n",
    "drop.pack()\n",
    "\n",
    "my_btn = Button(root, text=\"Show Selection\", command=show).pack()\n",
    "\n",
    "mainloop()"
   ]
  },
  {
   "source": [
    "## Using Databases\n",
    "\n",
    "You can transform a existing csv file to a data base using the terminal, with the follow commandss:\n",
    "\n",
    "sqlite3\n",
    ".mode csv\n",
    ".import \"nameOfTheFile.csv\" nameOfTheTable"
   ],
   "cell_type": "markdown",
   "metadata": {}
  },
  {
   "cell_type": "code",
   "execution_count": null,
   "metadata": {},
   "outputs": [],
   "source": [
    "import sqlite3\n",
    "# Create a database or connect to one\n",
    "conn = sqlite3.connect(\"address_book.db\")\n",
    "\n",
    "# everytime we want to execute something we have to activate the cursor\n",
    "c = conn.cursor()\n",
    "\n",
    "# everytime we make a change to the database we have to commit that change\n",
    "conn.commit()\n",
    "\n",
    "# and close our connection\n",
    "conn.close()"
   ]
  },
  {
   "cell_type": "code",
   "execution_count": 4,
   "metadata": {},
   "outputs": [],
   "source": [
    "from tkinter import *\n",
    "from PIL import ImageTk, Image\n",
    "import sqlite3\n",
    "\n",
    "root = Tk()\n",
    "root.title(\"Data Base\")\n",
    "root.geometry(\"400x400\")\n",
    "\n",
    "# Create a database or connect to one\n",
    "conn = sqlite3.connect(\"address_book.db\")\n",
    "\n",
    "# everytime we want to execute something we have to activate the cursor\n",
    "c = conn.cursor()\n",
    "\n",
    "# # Create table\n",
    "# c.execute(\"\"\"CREATE TABLE addresses (\n",
    "#     first_name text,\n",
    "#     last_name text,\n",
    "#     address text,\n",
    "#     city text,\n",
    "#     state text,\n",
    "#     zipcode integer\n",
    "#     )\n",
    "# \"\"\")\n",
    "\n",
    "# everytime we make a change to the database we have to commit that change\n",
    "conn.commit()\n",
    "\n",
    "# and close our connection\n",
    "conn.close()\n",
    "root.mainloop()"
   ]
  },
  {
   "source": [
    "## Data Base\n",
    "\n",
    "The sqlite_sequence table is created and initialized automatically whenever a normal table that contains an AUTOINCREMENT column is created. The content of the sqlite_sequence table can be modified using ordinary UPDATE, INSERT, and DELETE statements. But making modifications to this table will likely perturb the AUTOINCREMENT key generation algorithm.\n",
    "\n",
    "The statement \"IF NOT EXISTS\" is like a bolean that if true continues, if false doesnt do what is next."
   ],
   "cell_type": "markdown",
   "metadata": {}
  },
  {
   "cell_type": "code",
   "execution_count": null,
   "metadata": {},
   "outputs": [],
   "source": [
    "# Create a Table\n",
    "my_cursor.execute(\"\"\"CREATE TABLE  IF NOT EXISTS customers (\n",
    "    first_name text,\n",
    "    last_name text,\n",
    "    zipcode integer,\n",
    "    price_paid real,\n",
    "    id INTEGER PRIMARY KEY\n",
    "    )\"\"\")"
   ]
  },
  {
   "source": [
    "## Labels VS Boxes\n"
   ],
   "cell_type": "markdown",
   "metadata": {}
  },
  {
   "cell_type": "code",
   "execution_count": null,
   "metadata": {},
   "outputs": [],
   "source": [
    "from tkinter import *\n",
    "root = Tk()\n",
    "root.title(\"Client Relation Manager\")\n",
    "root.geometry(\"400x400\")\n",
    "\n",
    "# With labels we can wrap .grid in the same line\n",
    "first_name_label = Label(root, text=\"First Name\").grid(row=14, column=0)\n",
    "\n",
    "# With boxes you can't\n",
    "first_name_box = Entry(root)\n",
    "first_name_box.grid(row=1, column=1)"
   ]
  },
  {
   "source": [
    "## fetchall()\n",
    "\n",
    "To retrieve data after executing a SELECT statement, you can either treat the cursor as an iterator, call the cursor’s fetchone() method to retrieve a single matching row, or call fetchall() to get a list of the matching rows.\n",
    "\n",
    "    t = ('RHAT',)\n",
    "    c.execute('SELECT * FROM stocks WHERE symbol=?', t)\n",
    "    print c.fetchone()"
   ],
   "cell_type": "markdown",
   "metadata": {}
  }
 ]
}