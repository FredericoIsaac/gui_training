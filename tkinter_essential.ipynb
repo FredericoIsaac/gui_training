{
 "metadata": {
  "language_info": {
   "codemirror_mode": {
    "name": "ipython",
    "version": 3
   },
   "file_extension": ".py",
   "mimetype": "text/x-python",
   "name": "python",
   "nbconvert_exporter": "python",
   "pygments_lexer": "ipython3",
   "version": "3.8.3-final"
  },
  "orig_nbformat": 2,
  "kernelspec": {
   "name": "Python 3.8.3 32-bit",
   "display_name": "Python 3.8.3 32-bit",
   "metadata": {
    "interpreter": {
     "hash": "fee04717e200c41890f914d41448309315c9835eadcb1ec78881c144ca56f19b"
    }
   }
  }
 },
 "nbformat": 4,
 "nbformat_minor": 2,
 "cells": [
  {
   "source": [
    "# Graphical User Interface (GUI)"
   ],
   "cell_type": "markdown",
   "metadata": {}
  },
  {
   "cell_type": "code",
   "execution_count": 1,
   "metadata": {},
   "outputs": [],
   "source": [
    "from tkinter import *\n",
    "\n",
    "# Create tkinter object\n",
    "root = Tk()\n",
    "\n",
    "# Create a label widget\n",
    "myLabel1 = Label(root, text=\"Hello World!\")\n",
    "myLabel2 = Label(root, text=\"My name is Fred\")\n",
    "\n",
    "# Add the created widget to the screnn\n",
    "myLabel1.pack()         # pack is a way to consolidate the label as it is\n",
    "\n",
    "# The main loop\n",
    "root.mainloop()"
   ]
  },
  {
   "source": [
    "## Using Grid do display\n",
    "\n",
    "Using the grid system instead os pack()"
   ],
   "cell_type": "markdown",
   "metadata": {}
  },
  {
   "cell_type": "code",
   "execution_count": null,
   "metadata": {},
   "outputs": [],
   "source": [
    "from tkinter import *\n",
    "\n",
    "# Create tkinter object\n",
    "root = Tk()\n",
    "\n",
    "# Create a label widget\n",
    "myLabel1 = Label(root, text=\"Hello World!\")\n",
    "myLabel2 = Label(root, text=\"My name is Fred\")\n",
    "\n",
    "# Using grid to display the label\n",
    "myLabel1.grid(row=0, column=0)\n",
    "myLabel2.grid(row=1, column=1)\n",
    "\n",
    "\n",
    "# The main loop\n",
    "root.mainloop()"
   ]
  },
  {
   "source": [
    "## Creating Buttons\n",
    "\n",
    "Parameters information: https://www.tutorialspoint.com/python/tk_button.htm"
   ],
   "cell_type": "markdown",
   "metadata": {}
  },
  {
   "cell_type": "code",
   "execution_count": 7,
   "metadata": {},
   "outputs": [],
   "source": [
    "from tkinter import *\n",
    "\n",
    "root = Tk()\n",
    "\n",
    "# When button clicked does:\n",
    "def myClick():\n",
    "    myLabel = Label(root, text=\"Look! I was clicked!!\")\n",
    "    myLabel.pack()\n",
    "\n",
    "myButton = Button(root, text=\"Click Me!\", state=ACTIVE, padx=50, pady=50, command=myClick) # with state \"DISABLED\" the button dont work\n",
    "myButton.pack()\n",
    "\n",
    "root.mainloop()"
   ]
  },
  {
   "source": [
    "## Creating Input Fields"
   ],
   "cell_type": "markdown",
   "metadata": {}
  },
  {
   "cell_type": "code",
   "execution_count": 8,
   "metadata": {},
   "outputs": [],
   "source": [
    "from tkinter import *\n",
    "\n",
    "root = Tk()\n",
    "\n",
    "# add box entry\n",
    "e = Entry(root, width=50, borderwidth=5)\n",
    "# Put it on the screen\n",
    "e.pack()\n",
    "# Insert a default text\n",
    "e.insert(0, \"Enter your Name: \")\n",
    "\n",
    "def myClick():\n",
    "    myLabel = Label(root, text=\"Hello \" + e.get()) #e.get() ill get the info that is in the text box\n",
    "    myLabel.pack()\n",
    "\n",
    "myButton = Button(root, text=\"Enter your name\", state=ACTIVE, padx=50, pady=50, command=myClick) # with state \"DISABLED\" the button dont work\n",
    "myButton.pack()\n",
    "\n",
    "root.mainloop()\n"
   ]
  },
  {
   "source": [
    "## Icons, Images and Exit Buttons\n"
   ],
   "cell_type": "markdown",
   "metadata": {}
  },
  {
   "cell_type": "code",
   "execution_count": 2,
   "metadata": {},
   "outputs": [],
   "source": [
    "from tkinter import *\n",
    "# To get images manipulation\n",
    "from PIL import ImageTk, Image\n",
    "\n",
    "root = Tk()\n",
    "root.title(\"Learn to code at Codemy.com\")\n",
    "\n",
    "# Manipulating images\n",
    "my_img = ImageTk.PhotoImage(Image.open(\"images\\purpl_circle.jpg\"))\n",
    "my_label = Label(image=my_img)\n",
    "my_label.pack()\n",
    "# Get image for logo\n",
    "root.iconbitmap(\"images\\confere_logo.ico\")\n",
    "\n",
    "# Exit button\n",
    "button_quit = Button(root, text=\"Exit Program\", command=root.quit)\n",
    "button_quit.pack()\n",
    "\n",
    "root.mainloop()"
   ]
  },
  {
   "source": [
    "## Frames"
   ],
   "cell_type": "markdown",
   "metadata": {}
  },
  {
   "cell_type": "code",
   "execution_count": 4,
   "metadata": {},
   "outputs": [],
   "source": [
    "from tkinter import *\n",
    "\n",
    "root = Tk()\n",
    "root.title(\"Frames\")\n",
    "\n",
    "frame = LabelFrame(root, text=\"This is my frame...\", padx=50, pady=50)\n",
    "frame.pack(padx=10, pady=10)\n",
    "\n",
    "button_widget = Button(frame, text=\"Don't Click here!\")\n",
    "button_widget.grid(row=0, column=0)    # you can use a grid inside the frame\n",
    "\n",
    "root.mainloop()"
   ]
  },
  {
   "cell_type": "code",
   "execution_count": null,
   "metadata": {},
   "outputs": [],
   "source": []
  }
 ]
}